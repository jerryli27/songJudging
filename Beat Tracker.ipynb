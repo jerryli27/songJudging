{
 "cells": [
  {
   "cell_type": "code",
   "execution_count": 17,
   "metadata": {
    "collapsed": false
   },
   "outputs": [],
   "source": [
    "import IPython, numpy as np, scipy as sp, matplotlib.pyplot as plt, matplotlib, sklearn, librosa, cmath,math\n",
    "from IPython.display import Audio\n",
    " "
   ]
  },
  {
   "cell_type": "code",
   "execution_count": 18,
   "metadata": {
    "collapsed": false
   },
   "outputs": [],
   "source": [
    "def estimated_beat(wav_file, hop_size, start_time, end_time, sr, start_bpm):\n",
    "    signal, sr = librosa.load(wav_file, sr)\n",
    "    hop_length = 512\n",
    "    start = start_time\n",
    "    end = end_time\n",
    "    tempo, beats = librosa.beat.beat_track(y=signal, sr=sr, onset_envelope=None, hop_length=hop_size,\n",
    "                start_bpm=start_bpm, tightness=100, trim=True, bpm=None)\n",
    "    onset_env = librosa.onset.onset_strength(y=signal, sr=sr, S=None, lag=1, max_size=1, detrend=False, \n",
    "                                 center=True, feature=None, aggregate=None)\n",
    "    plt.figure()\n",
    "    plt.plot(librosa.util.normalize(onset_env), label='Onset strength')\n",
    "    plt.vlines(beats, 0, 1, alpha=0.5, color='r',\n",
    "                linestyle='--', label='Beats')\n",
    "    plt.legend(frameon=True, framealpha=0.75)\n",
    "    # Limit the plot to a 15-second window\n",
    "    plt.xlim([start * sr / hop_length, end * sr / hop_length])\n",
    "    plt.xticks(np.linspace(start, end, 5) * sr / hop_length,\n",
    "                np.linspace(start, end, 5))\n",
    "    plt.xlabel('Time (s)')\n",
    "    plt.tight_layout()\n",
    "    return beats\n",
    "\n",
    "def calculate_rank(original_beats, test_beats, sigma):\n",
    "    score_array = np.zeros(len(original_beats))\n",
    "    for i in range (0, len(original_beats)):\n",
    "        for k in range (0, len(test_beats)):\n",
    "            if ((original_beats[i] + sigma > test_beats[k]) and (original_beats[i] - sigma < test_beats[k])):\n",
    "                score_array[i] = 1.0\n",
    "    score = np.sum(score_array)/float(len(score_array))\n",
    "    return score\n",
    "\n"
   ]
  },
  {
   "cell_type": "code",
   "execution_count": 19,
   "metadata": {
    "collapsed": false
   },
   "outputs": [],
   "source": [
    "hop_size = 512\n",
    "start_time = 30\n",
    "end_time = 45\n",
    "sr = 44100\n",
    "start_bpm = 120\n",
    "sigma = 10 \n",
    "# Sigma is how much off the beat the person is allowed to be\n",
    "test_beat_frames = estimated_beat('test.wav', hop_size, start_time, end_time, sr, start_bpm)\n",
    "original_beat_frames = estimated_beat('fireflies.wav', hop_size, start_time, end_time, sr, start_bpm)\n",
    "plt.show()\n",
    "test_beats = librosa.frames_to_samples(test_beat_frames, hop_length=hop_size)\n",
    "original_beats = librosa.frames_to_samples(original_beat_frames, hop_length=hop_size)\n",
    "score = calculate_rank(original_beats, test_beats, sigma)"
   ]
  },
  {
   "cell_type": "code",
   "execution_count": null,
   "metadata": {
    "collapsed": true
   },
   "outputs": [],
   "source": []
  }
 ],
 "metadata": {
  "kernelspec": {
   "display_name": "Python 2",
   "language": "python",
   "name": "python2"
  },
  "language_info": {
   "codemirror_mode": {
    "name": "ipython",
    "version": 2
   },
   "file_extension": ".py",
   "mimetype": "text/x-python",
   "name": "python",
   "nbconvert_exporter": "python",
   "pygments_lexer": "ipython2",
   "version": "2.7.11"
  }
 },
 "nbformat": 4,
 "nbformat_minor": 0
}
