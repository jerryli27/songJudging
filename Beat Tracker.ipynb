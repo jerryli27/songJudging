{
 "cells": [
  {
   "cell_type": "code",
   "execution_count": 27,
   "metadata": {
    "collapsed": false
   },
   "outputs": [],
   "source": [
    "import IPython, numpy as np, scipy as sp, matplotlib.pyplot as plt, matplotlib, sklearn, librosa, cmath,math\n",
    "from IPython.display import Audio\n",
    " "
   ]
  },
  {
   "cell_type": "code",
   "execution_count": 28,
   "metadata": {
    "collapsed": false
   },
   "outputs": [],
   "source": [
    "def estimated_beat(wav_file, hop_size, start_time, end_time, sr, start_bpm):\n",
    "    signal, sr = librosa.load(wav_file, sr)\n",
    "    hop_length = 512\n",
    "    start = start_time\n",
    "    end = end_time\n",
    "    tempo, beats = librosa.beat.beat_track(y=signal, sr=sr, onset_envelope=None, hop_length=hop_size,\n",
    "                start_bpm=start_bpm, tightness=100, trim=True, bpm=None)\n",
    "    onset_env = librosa.onset.onset_strength(y=signal, sr=sr, S=None, lag=1, max_size=1, detrend=False, \n",
    "                                 center=True, feature=None, aggregate=None)\n",
    "    return onset_env, beats\n",
    "# using correlation or fftconvolution to get alignment\n",
    "# However, this takes way too long, so we will assume starting and end time are the same. \n",
    "# def calculate_rank(original_signal, test_signal, original_beats, test_beats, sr, sigma):\n",
    "#     original_signal, sr = librosa.load(original_signal, sr)\n",
    "#     test_signal, sr = librosa.load(test_signal, sr)\n",
    "#     original = np.zeros(len(original_signal))\n",
    "#     test = np.zeros(len(test_signal))\n",
    "#     for i in range (0, len(original_beats)):\n",
    "#         original[original_beats[i]] = 1.0\n",
    "#     for i in range (0, len(test_beats)):\n",
    "#         test[test_beats[i]] = 1.0\n",
    "#     reversed_test = test[::-1]\n",
    "#     correlation = np.correlate(original, reversed_test, \"full\")\n",
    "#     index = np.argmax(correlation) \n",
    "#     print correlation\n",
    "#     if (index < len(test)):\n",
    "#         correlated_test = np.zeros(len(test))\n",
    "#         for i in range (0, index + 1):\n",
    "#             correlated_test[i] = test[(len(test) - index - 1) + i]\n",
    "#     else:\n",
    "#         correlated_test = np.zeros(len(test)+(index-len(test)))\n",
    "#         for i in range (0, len(test)):\n",
    "#             correlated_test[i+(index-len(test))] = test[i]\n",
    "\n",
    "def calculate_rank(original_beats, test_beats, sr, offbeat_factor):\n",
    "    score_array = np.zeros(len(original_beats))\n",
    "    for i in range (0, len(original_beats)):\n",
    "        for k in range (0, len(test_beats)):\n",
    "            if ((original_beats[i] + offbeat_factor > test_beats[k]) and (original_beats[i] - offbeat_factor < test_beats[k])):\n",
    "                score_array[i] = 1.0\n",
    "    score = np.sum(score_array)/float(len(score_array))\n",
    "    score = score*100.0\n",
    "    return score "
   ]
  },
  {
   "cell_type": "code",
   "execution_count": 29,
   "metadata": {
    "collapsed": false
   },
   "outputs": [],
   "source": [
    "def analyze_signals(original_signal, test_signal, hop_size, start_time, end_time, sr, start_bpm, offbeat_factor):\n",
    "    # Offbeat_factor is how much off the beat the person is allowed to be\n",
    "    test, sr = librosa.load(test_signal, sr)\n",
    "    test_normalizer = np.max(test)\n",
    "    test = test/float(test_normalizer)\n",
    "    original, sr = librosa.load(original_signal, sr)\n",
    "    original_normalizer = np.max(original)\n",
    "    original = original/float(original_normalizer)\n",
    "    test_onset_env, test_beat_frames = estimated_beat(test_signal, hop_size, start_time, end_time, sr, start_bpm)\n",
    "    original_onset_env, original_beat_frames = estimated_beat(original_signal, hop_size, start_time, end_time, sr, start_bpm)\n",
    "    # plt.show()\n",
    "    test_beats = librosa.frames_to_samples(test_beat_frames, hop_length=hop_size)\n",
    "    original_beats = librosa.frames_to_samples(original_beat_frames, hop_length=hop_size)\n",
    "    beat_score = calculate_rank(original_beats, test_beats, sr, sr*offbeat_factor)\n",
    "    \n",
    "    plt.figure(1)\n",
    "    ax1 = plt.subplot(2,1,1)\n",
    "    plt.plot(original, label='Signal')\n",
    "    plt.vlines(original_beats, -2, 2, alpha=.5, color='r',\n",
    "                linestyle='solid', linewidth=3, label='Beats')\n",
    "    plt.legend(frameon=True, framealpha=0.75)\n",
    "    # Limit the plot to a X-second window\n",
    "    plt.xlim([start_time * sr, end_time * sr])\n",
    "    plt.xticks(np.linspace(start_time, end_time, 5) * sr,\n",
    "                np.linspace(start_time, end_time, 5))\n",
    "    plt.xlabel('Time (s)')\n",
    "    plt.tight_layout()\n",
    "\n",
    "    ax2 = plt.subplot(2,1,2, sharex=ax1, sharey=ax1)\n",
    "    plt.plot(test, label='Signal')\n",
    "    plt.vlines(test_beats, -2, 2, alpha=.5, color='g',\n",
    "                linestyle='solid',linewidth=3, label='Beats')\n",
    "    plt.legend(frameon=True, framealpha=0.75)\n",
    "    # Limit the plot to a X-second window\n",
    "    plt.xlim([start_time * sr, end_time * sr])\n",
    "    plt.xticks(np.linspace(start_time, end_time, 5) * sr,\n",
    "                np.linspace(start_time, end_time, 5))\n",
    "    plt.xlabel('Time (s)')\n",
    "    plt.tight_layout()\n",
    "    plt.subplots_adjust(hspace=0)\n",
    "    plt.show()\n",
    "    return beat_score"
   ]
  },
  {
   "cell_type": "code",
   "execution_count": 30,
   "metadata": {
    "collapsed": false
   },
   "outputs": [],
   "source": [
    "def call_beat_score(original_signal, test_signal, hop_size, start_time, end_time, sr, offbeat_factor):\n",
    "    y, sr = librosa.load(test_signal, sr)\n",
    "    onset_env = librosa.onset.onset_strength(y, sr=sr)\n",
    "    tempo = librosa.beat.estimate_tempo(onset_env, sr=sr)\n",
    "    score = analyze_signals(original_signal,test_signal, hop_size, start_time, end_time, sr, tempo, offbeat_factor)\n",
    "    return score"
   ]
  },
  {
   "cell_type": "code",
   "execution_count": 31,
   "metadata": {
    "collapsed": false
   },
   "outputs": [
    {
     "data": {
      "text/plain": [
       "99.477806788511742"
      ]
     },
     "execution_count": 31,
     "metadata": {},
     "output_type": "execute_result"
    }
   ],
   "source": [
    "# example call\n",
    "call_beat_score('iknewyouweretrouble.wav','iknewyouweretrouble2.wav',512, 0, 30, 44100, .5)    \n"
   ]
  },
  {
   "cell_type": "code",
   "execution_count": null,
   "metadata": {
    "collapsed": true
   },
   "outputs": [],
   "source": []
  }
 ],
 "metadata": {
  "kernelspec": {
   "display_name": "Python 2",
   "language": "python",
   "name": "python2"
  },
  "language_info": {
   "codemirror_mode": {
    "name": "ipython",
    "version": 2
   },
   "file_extension": ".py",
   "mimetype": "text/x-python",
   "name": "python",
   "nbconvert_exporter": "python",
   "pygments_lexer": "ipython2",
   "version": "2.7.11"
  }
 },
 "nbformat": 4,
 "nbformat_minor": 0
}
